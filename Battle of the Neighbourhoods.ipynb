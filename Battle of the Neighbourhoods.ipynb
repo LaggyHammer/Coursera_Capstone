{
 "cells": [
  {
   "cell_type": "markdown",
   "metadata": {},
   "source": [
    "# Coursera Capstone Project"
   ]
  },
  {
   "cell_type": "markdown",
   "metadata": {},
   "source": [
    "# Battle of the Neighbourhoods"
   ]
  },
  {
   "cell_type": "markdown",
   "metadata": {},
   "source": [
    "## Introduction"
   ]
  },
  {
   "cell_type": "markdown",
   "metadata": {},
   "source": [
    "With about 8.5 million people calling the city home, NYC remains one of the fastest growing cities in the world. Its demographics include a variety of diverse cultures & cuisines. This essentially means that whatever type of food you love, there is still hope for you in NYC."
   ]
  },
  {
   "cell_type": "markdown",
   "metadata": {},
   "source": [
    "## Business Problem"
   ]
  },
  {
   "cell_type": "markdown",
   "metadata": {},
   "source": [
    "This report will try to analyse the data publicly available for NYC & try to answer the following questions:\n",
    "*\tWhich parts of NYC have the most Japanese restaurants?\n",
    "*\tWhich is the best location in NYC for Japanese cuisine?\n",
    "*\tWhich areas have a dearth of Japanese restaurants?\n",
    "*\tWhat would be the best place to stay in NYC if you’re in love with sushi?\n",
    "This analysis will help fellow sushi lovers to find their favourite place in the great city of New York. It might also help any individual(s) or companies looking to open a Japanese restaurant in the city."
   ]
  },
  {
   "cell_type": "markdown",
   "metadata": {},
   "source": [
    "## Dataset"
   ]
  },
  {
   "cell_type": "markdown",
   "metadata": {},
   "source": [
    "The following datasets will be used for this analysis:\n",
    "*\tNYC location dataset\n",
    " +\tSource: https://cocl.us/new_york_dataset\n",
    " +\tDataset includes names of neighbourhoods, boroughs & their respective location coordinates.\n",
    "*\tJapanese restaurants location & info\n",
    " +\tSource: Foursquare API\n",
    " +\tThe API will be used to search for Japanese restaurants in NYC’s neighbourhoods.\n",
    "*\tBoundary Data\n",
    " +\tSource: : https://data.cityofnewyork.us/City-Government/BoroughBoundaries/tqmj-j8zm\n",
    " +\tThis boundary data for the boroughs will help us plot the choropleth map of NYC.\n"
   ]
  },
  {
   "cell_type": "markdown",
   "metadata": {},
   "source": [
    "## Methodology"
   ]
  },
  {
   "cell_type": "markdown",
   "metadata": {},
   "source": [
    "* First, we will collect data from the NYC dataset and visualize the Japanese restaurants available in the neighbourhoods.\n",
    "* After filtering out just the Japanese restaurants data (using the Foursquare API), we will aggregate them according to the boroughs & neighbourhoods they are in.\n",
    "* We will create visualizations (borough-wise & neighbourhood-wise)\n",
    "* We will also create a choropleth map, visualizing the number of Japanese restaurants."
   ]
  },
  {
   "cell_type": "markdown",
   "metadata": {},
   "source": [
    "## Analysis"
   ]
  },
  {
   "cell_type": "markdown",
   "metadata": {},
   "source": [
    "Importing the necessary libraries."
   ]
  },
  {
   "cell_type": "code",
   "execution_count": 3,
   "metadata": {},
   "outputs": [],
   "source": [
    "import pandas as pd\n",
    "import numpy as np\n",
    "import requests\n",
    "from bs4 import BeautifulSoup\n",
    "import geocoder\n",
    "import os\n",
    "import folium\n",
    "from geopy.geocoders import Nominatim\n",
    "import matplotlib.pyplot as plt\n",
    "import matplotlib.colors as colors\n",
    "import matplotlib.cm as cm\n",
    "%matplotlib inline"
   ]
  },
  {
   "cell_type": "code",
   "execution_count": 4,
   "metadata": {},
   "outputs": [],
   "source": [
    "# Function to get latitude & longitude of a location\n",
    "def geo_location(address):\n",
    "    \n",
    "    geolocator = Nominatim(user_agent=\"nyc_coursera\")\n",
    "    location = geolocator.geocode(address)\n",
    "    latitude = location.latitude\n",
    "    longitude = location.longitude\n",
    "    return latitude,longitude"
   ]
  },
  {
   "cell_type": "code",
   "execution_count": 5,
   "metadata": {},
   "outputs": [],
   "source": [
    "# Function to get top 100 venues within a 1km radius\n",
    "def get_venues(lat,lng):\n",
    "    \n",
    "    #set variables\n",
    "    radius=1000\n",
    "    LIMIT=100\n",
    "    CLIENT_ID = --- # your Foursquare ID\n",
    "    CLIENT_SECRET = --- # your Foursquare Secret\n",
    "    VERSION = '20200401' # Foursquare API version\n",
    "    \n",
    "    #url to fetch data from foursquare api\n",
    "    url = 'https://api.foursquare.com/v2/venues/explore?&client_id={}&client_secret={}&v={}&ll={},{}&radius={}&limit={}'.format(\n",
    "            CLIENT_ID, \n",
    "            CLIENT_SECRET, \n",
    "            VERSION, \n",
    "            lat, \n",
    "            lng, \n",
    "            radius, \n",
    "            LIMIT)\n",
    "    \n",
    "    # get all the data\n",
    "    results = requests.get(url).json()\n",
    "    venue_data=results[\"response\"]['groups'][0]['items']\n",
    "    venue_details=[]\n",
    "    for row in venue_data:\n",
    "        try:\n",
    "            venue_id=row['venue']['id']\n",
    "            venue_name=row['venue']['name']\n",
    "            venue_category=row['venue']['categories'][0]['name']\n",
    "            venue_details.append([venue_id,venue_name,venue_category])\n",
    "        except KeyError:\n",
    "            pass\n",
    "        \n",
    "    column_names=['ID','Name','Category']\n",
    "    df = pd.DataFrame(venue_details,columns=column_names)\n",
    "    return df"
   ]
  },
  {
   "cell_type": "code",
   "execution_count": 46,
   "metadata": {},
   "outputs": [],
   "source": [
    "# Function to get details for a particular venue\n",
    "def get_venue_details(venue_id):\n",
    "        \n",
    "    CLIENT_ID = '---' # your Foursquare ID\n",
    "    CLIENT_SECRET = '---' # your Foursquare Secret\n",
    "    VERSION = '20200401' # Foursquare API version\n",
    "    \n",
    "    #url to fetch data from foursquare api\n",
    "    url = 'https://api.foursquare.com/v2/venues/{}?&client_id={}&client_secret={}&v={}'.format(\n",
    "            venue_id,\n",
    "            CLIENT_ID, \n",
    "            CLIENT_SECRET, \n",
    "            VERSION)\n",
    "    \n",
    "    # get all the data\n",
    "    results = requests.get(url).json()\n",
    "    print(results)\n",
    "    venue_data=results['response']['venue']\n",
    "    venue_details=[]\n",
    "    try:\n",
    "        venue_id=venue_data['id']\n",
    "        venue_name=venue_data['name']\n",
    "        venue_likes=venue_data['likes']['count']\n",
    "        venue_rating=venue_data['rating']\n",
    "        venue_tips=venue_data['tips']['count']\n",
    "        venue_details.append([venue_id,venue_name,venue_likes,venue_rating,venue_tips])\n",
    "    except KeyError:\n",
    "        pass\n",
    "        \n",
    "    column_names=['ID','Name','Likes','Rating','Tips']\n",
    "    df = pd.DataFrame(venue_details,columns=column_names)\n",
    "    return df"
   ]
  },
  {
   "cell_type": "markdown",
   "metadata": {},
   "source": [
    "Fetching the NYC data"
   ]
  },
  {
   "cell_type": "code",
   "execution_count": 7,
   "metadata": {},
   "outputs": [],
   "source": [
    "def get_new_york_data():\n",
    "    url='https://cocl.us/new_york_dataset'\n",
    "    resp=requests.get(url).json()\n",
    "    # all data is present in features label\n",
    "    features=resp['features']\n",
    "    \n",
    "    # define the dataframe columns\n",
    "    column_names = ['Borough', 'Neighborhood', 'Latitude', 'Longitude'] \n",
    "    # instantiate the dataframe\n",
    "    new_york_data = pd.DataFrame(columns=column_names)\n",
    "    \n",
    "    for data in features:\n",
    "        borough = data['properties']['borough'] \n",
    "        neighborhood_name = data['properties']['name']\n",
    "        \n",
    "        neighborhood_latlon = data['geometry']['coordinates']\n",
    "        neighborhood_lat = neighborhood_latlon[1]\n",
    "        neighborhood_lon = neighborhood_latlon[0]\n",
    "    \n",
    "        new_york_data = new_york_data.append({'Borough': borough,\n",
    "                                          'Neighborhood': neighborhood_name,\n",
    "                                          'Latitude': neighborhood_lat,\n",
    "                                          'Longitude': neighborhood_lon}, ignore_index=True)\n",
    "    \n",
    "    return new_york_data"
   ]
  },
  {
   "cell_type": "code",
   "execution_count": 8,
   "metadata": {},
   "outputs": [
    {
     "data": {
      "text/html": [
       "<div>\n",
       "<style scoped>\n",
       "    .dataframe tbody tr th:only-of-type {\n",
       "        vertical-align: middle;\n",
       "    }\n",
       "\n",
       "    .dataframe tbody tr th {\n",
       "        vertical-align: top;\n",
       "    }\n",
       "\n",
       "    .dataframe thead th {\n",
       "        text-align: right;\n",
       "    }\n",
       "</style>\n",
       "<table border=\"1\" class=\"dataframe\">\n",
       "  <thead>\n",
       "    <tr style=\"text-align: right;\">\n",
       "      <th></th>\n",
       "      <th>Borough</th>\n",
       "      <th>Neighborhood</th>\n",
       "      <th>Latitude</th>\n",
       "      <th>Longitude</th>\n",
       "    </tr>\n",
       "  </thead>\n",
       "  <tbody>\n",
       "    <tr>\n",
       "      <th>72</th>\n",
       "      <td>Brooklyn</td>\n",
       "      <td>East New York</td>\n",
       "      <td>40.669926</td>\n",
       "      <td>-73.880699</td>\n",
       "    </tr>\n",
       "    <tr>\n",
       "      <th>95</th>\n",
       "      <td>Brooklyn</td>\n",
       "      <td>East Williamsburg</td>\n",
       "      <td>40.708492</td>\n",
       "      <td>-73.938858</td>\n",
       "    </tr>\n",
       "    <tr>\n",
       "      <th>198</th>\n",
       "      <td>Staten Island</td>\n",
       "      <td>New Brighton</td>\n",
       "      <td>40.640615</td>\n",
       "      <td>-74.087017</td>\n",
       "    </tr>\n",
       "    <tr>\n",
       "      <th>139</th>\n",
       "      <td>Queens</td>\n",
       "      <td>Long Island City</td>\n",
       "      <td>40.750217</td>\n",
       "      <td>-73.939202</td>\n",
       "    </tr>\n",
       "    <tr>\n",
       "      <th>21</th>\n",
       "      <td>Bronx</td>\n",
       "      <td>Mott Haven</td>\n",
       "      <td>40.806239</td>\n",
       "      <td>-73.916100</td>\n",
       "    </tr>\n",
       "  </tbody>\n",
       "</table>\n",
       "</div>"
      ],
      "text/plain": [
       "           Borough       Neighborhood   Latitude  Longitude\n",
       "72        Brooklyn      East New York  40.669926 -73.880699\n",
       "95        Brooklyn  East Williamsburg  40.708492 -73.938858\n",
       "198  Staten Island       New Brighton  40.640615 -74.087017\n",
       "139         Queens   Long Island City  40.750217 -73.939202\n",
       "21           Bronx         Mott Haven  40.806239 -73.916100"
      ]
     },
     "execution_count": 8,
     "metadata": {},
     "output_type": "execute_result"
    }
   ],
   "source": [
    "new_york_data=get_new_york_data()\n",
    "new_york_data.sample(5)"
   ]
  },
  {
   "cell_type": "code",
   "execution_count": 10,
   "metadata": {},
   "outputs": [
    {
     "name": "stdout",
     "output_type": "stream",
     "text": [
      "Dataset has 306 neighbourhoods.\n"
     ]
    }
   ],
   "source": [
    "print(f\"Dataset has {new_york_data.shape[0]} neighbourhoods.\")"
   ]
  },
  {
   "cell_type": "markdown",
   "metadata": {},
   "source": [
    "Next up, collecting all the Japanese restaurants from each neighborhood."
   ]
  },
  {
   "cell_type": "code",
   "execution_count": 12,
   "metadata": {
    "scrolled": true
   },
   "outputs": [
    {
     "name": "stdout",
     "output_type": "stream",
     "text": [
      "( 1 / 306 ) Japanese Resturants in Wakefield, Bronx:0\n",
      "( 2 / 306 ) Japanese Resturants in Co-op City, Bronx:0\n",
      "( 3 / 306 ) Japanese Resturants in Eastchester, Bronx:0\n",
      "( 4 / 306 ) Japanese Resturants in Fieldston, Bronx:0\n",
      "( 5 / 306 ) Japanese Resturants in Riverdale, Bronx:2\n",
      "( 6 / 306 ) Japanese Resturants in Kingsbridge, Bronx:2\n",
      "( 7 / 306 ) Japanese Resturants in Marble Hill, Manhattan:0\n",
      "( 8 / 306 ) Japanese Resturants in Woodlawn, Bronx:0\n",
      "( 9 / 306 ) Japanese Resturants in Norwood, Bronx:0\n",
      "( 10 / 306 ) Japanese Resturants in Williamsbridge, Bronx:0\n",
      "( 11 / 306 ) Japanese Resturants in Baychester, Bronx:0\n",
      "( 12 / 306 ) Japanese Resturants in Pelham Parkway, Bronx:0\n",
      "( 13 / 306 ) Japanese Resturants in City Island, Bronx:1\n",
      "( 14 / 306 ) Japanese Resturants in Bedford Park, Bronx:0\n",
      "( 15 / 306 ) Japanese Resturants in University Heights, Bronx:0\n",
      "( 16 / 306 ) Japanese Resturants in Morris Heights, Bronx:0\n",
      "( 17 / 306 ) Japanese Resturants in Fordham, Bronx:0\n",
      "( 18 / 306 ) Japanese Resturants in East Tremont, Bronx:0\n",
      "( 19 / 306 ) Japanese Resturants in West Farms, Bronx:0\n",
      "( 20 / 306 ) Japanese Resturants in High  Bridge, Bronx:1\n",
      "( 21 / 306 ) Japanese Resturants in Melrose, Bronx:0\n",
      "( 22 / 306 ) Japanese Resturants in Mott Haven, Bronx:0\n",
      "( 23 / 306 ) Japanese Resturants in Port Morris, Bronx:0\n",
      "( 24 / 306 ) Japanese Resturants in Longwood, Bronx:0\n",
      "( 25 / 306 ) Japanese Resturants in Hunts Point, Bronx:0\n",
      "( 26 / 306 ) Japanese Resturants in Morrisania, Bronx:0\n",
      "( 27 / 306 ) Japanese Resturants in Soundview, Bronx:0\n",
      "( 28 / 306 ) Japanese Resturants in Clason Point, Bronx:0\n",
      "( 29 / 306 ) Japanese Resturants in Throgs Neck, Bronx:0\n",
      "( 30 / 306 ) Japanese Resturants in Country Club, Bronx:0\n",
      "( 31 / 306 ) Japanese Resturants in Parkchester, Bronx:0\n",
      "( 32 / 306 ) Japanese Resturants in Westchester Square, Bronx:0\n",
      "( 33 / 306 ) Japanese Resturants in Van Nest, Bronx:0\n",
      "( 34 / 306 ) Japanese Resturants in Morris Park, Bronx:0\n",
      "( 35 / 306 ) Japanese Resturants in Belmont, Bronx:0\n",
      "( 36 / 306 ) Japanese Resturants in Spuyten Duyvil, Bronx:2\n",
      "( 37 / 306 ) Japanese Resturants in North Riverdale, Bronx:0\n",
      "( 38 / 306 ) Japanese Resturants in Pelham Bay, Bronx:0\n",
      "( 39 / 306 ) Japanese Resturants in Schuylerville, Bronx:0\n",
      "( 40 / 306 ) Japanese Resturants in Edgewater Park, Bronx:0\n",
      "( 41 / 306 ) Japanese Resturants in Castle Hill, Bronx:1\n",
      "( 42 / 306 ) Japanese Resturants in Olinville, Bronx:0\n",
      "( 43 / 306 ) Japanese Resturants in Pelham Gardens, Bronx:0\n",
      "( 44 / 306 ) Japanese Resturants in Concourse, Bronx:0\n",
      "( 45 / 306 ) Japanese Resturants in Unionport, Bronx:0\n",
      "( 46 / 306 ) Japanese Resturants in Edenwald, Bronx:0\n",
      "( 47 / 306 ) Japanese Resturants in Bay Ridge, Brooklyn:1\n",
      "( 48 / 306 ) Japanese Resturants in Bensonhurst, Brooklyn:4\n",
      "( 49 / 306 ) Japanese Resturants in Sunset Park, Brooklyn:0\n",
      "( 50 / 306 ) Japanese Resturants in Greenpoint, Brooklyn:0\n",
      "( 51 / 306 ) Japanese Resturants in Gravesend, Brooklyn:1\n",
      "( 52 / 306 ) Japanese Resturants in Brighton Beach, Brooklyn:0\n",
      "( 53 / 306 ) Japanese Resturants in Sheepshead Bay, Brooklyn:1\n",
      "( 54 / 306 ) Japanese Resturants in Manhattan Terrace, Brooklyn:2\n",
      "( 55 / 306 ) Japanese Resturants in Flatbush, Brooklyn:0\n",
      "( 56 / 306 ) Japanese Resturants in Crown Heights, Brooklyn:3\n",
      "( 57 / 306 ) Japanese Resturants in East Flatbush, Brooklyn:0\n",
      "( 58 / 306 ) Japanese Resturants in Kensington, Brooklyn:1\n",
      "( 59 / 306 ) Japanese Resturants in Windsor Terrace, Brooklyn:0\n",
      "( 60 / 306 ) Japanese Resturants in Prospect Heights, Brooklyn:2\n",
      "( 61 / 306 ) Japanese Resturants in Brownsville, Brooklyn:0\n",
      "( 62 / 306 ) Japanese Resturants in Williamsburg, Brooklyn:2\n",
      "( 63 / 306 ) Japanese Resturants in Bushwick, Brooklyn:0\n",
      "( 64 / 306 ) Japanese Resturants in Bedford Stuyvesant, Brooklyn:1\n",
      "( 65 / 306 ) Japanese Resturants in Brooklyn Heights, Brooklyn:2\n",
      "( 66 / 306 ) Japanese Resturants in Cobble Hill, Brooklyn:1\n",
      "( 67 / 306 ) Japanese Resturants in Carroll Gardens, Brooklyn:0\n",
      "( 68 / 306 ) Japanese Resturants in Red Hook, Brooklyn:0\n",
      "( 69 / 306 ) Japanese Resturants in Gowanus, Brooklyn:0\n",
      "( 70 / 306 ) Japanese Resturants in Fort Greene, Brooklyn:1\n",
      "( 71 / 306 ) Japanese Resturants in Park Slope, Brooklyn:2\n",
      "( 72 / 306 ) Japanese Resturants in Cypress Hills, Brooklyn:0\n",
      "( 73 / 306 ) Japanese Resturants in East New York, Brooklyn:0\n",
      "( 74 / 306 ) Japanese Resturants in Starrett City, Brooklyn:1\n",
      "( 75 / 306 ) Japanese Resturants in Canarsie, Brooklyn:0\n",
      "( 76 / 306 ) Japanese Resturants in Flatlands, Brooklyn:0\n",
      "( 77 / 306 ) Japanese Resturants in Mill Island, Brooklyn:0\n",
      "( 78 / 306 ) Japanese Resturants in Manhattan Beach, Brooklyn:1\n",
      "( 79 / 306 ) Japanese Resturants in Coney Island, Brooklyn:0\n",
      "( 80 / 306 ) Japanese Resturants in Bath Beach, Brooklyn:5\n",
      "( 81 / 306 ) Japanese Resturants in Borough Park, Brooklyn:0\n",
      "( 82 / 306 ) Japanese Resturants in Dyker Heights, Brooklyn:2\n",
      "( 83 / 306 ) Japanese Resturants in Gerritsen Beach, Brooklyn:0\n",
      "( 84 / 306 ) Japanese Resturants in Marine Park, Brooklyn:1\n",
      "( 85 / 306 ) Japanese Resturants in Clinton Hill, Brooklyn:3\n",
      "( 86 / 306 ) Japanese Resturants in Sea Gate, Brooklyn:0\n",
      "( 87 / 306 ) Japanese Resturants in Downtown, Brooklyn:2\n",
      "( 88 / 306 ) Japanese Resturants in Boerum Hill, Brooklyn:2\n",
      "( 89 / 306 ) Japanese Resturants in Prospect Lefferts Gardens, Brooklyn:0\n",
      "( 90 / 306 ) Japanese Resturants in Ocean Hill, Brooklyn:0\n",
      "( 91 / 306 ) Japanese Resturants in City Line, Brooklyn:0\n",
      "( 92 / 306 ) Japanese Resturants in Bergen Beach, Brooklyn:0\n",
      "( 93 / 306 ) Japanese Resturants in Midwood, Brooklyn:2\n",
      "( 94 / 306 ) Japanese Resturants in Prospect Park South, Brooklyn:0\n",
      "( 95 / 306 ) Japanese Resturants in Georgetown, Brooklyn:3\n",
      "( 96 / 306 ) Japanese Resturants in East Williamsburg, Brooklyn:2\n",
      "( 97 / 306 ) Japanese Resturants in North Side, Brooklyn:2\n",
      "( 98 / 306 ) Japanese Resturants in South Side, Brooklyn:2\n",
      "( 99 / 306 ) Japanese Resturants in Ocean Parkway, Brooklyn:0\n",
      "( 100 / 306 ) Japanese Resturants in Fort Hamilton, Brooklyn:4\n",
      "( 101 / 306 ) Japanese Resturants in Chinatown, Manhattan:0\n",
      "( 102 / 306 ) Japanese Resturants in Washington Heights, Manhattan:0\n",
      "( 103 / 306 ) Japanese Resturants in Inwood, Manhattan:0\n",
      "( 104 / 306 ) Japanese Resturants in Hamilton Heights, Manhattan:1\n",
      "( 105 / 306 ) Japanese Resturants in Manhattanville, Manhattan:1\n",
      "( 106 / 306 ) Japanese Resturants in Central Harlem, Manhattan:0\n",
      "( 107 / 306 ) Japanese Resturants in East Harlem, Manhattan:0\n",
      "( 108 / 306 ) Japanese Resturants in Upper East Side, Manhattan:0\n",
      "( 109 / 306 ) Japanese Resturants in Yorkville, Manhattan:1\n",
      "( 110 / 306 ) Japanese Resturants in Lenox Hill, Manhattan:1\n",
      "( 111 / 306 ) Japanese Resturants in Roosevelt Island, Manhattan:2\n",
      "( 112 / 306 ) Japanese Resturants in Upper West Side, Manhattan:0\n",
      "( 113 / 306 ) Japanese Resturants in Lincoln Square, Manhattan:0\n",
      "( 114 / 306 ) Japanese Resturants in Clinton, Manhattan:1\n",
      "( 115 / 306 ) Japanese Resturants in Midtown, Manhattan:1\n",
      "( 116 / 306 ) Japanese Resturants in Murray Hill, Manhattan:2\n",
      "( 117 / 306 ) Japanese Resturants in Chelsea, Manhattan:0\n",
      "( 118 / 306 ) Japanese Resturants in Greenwich Village, Manhattan:1\n",
      "( 119 / 306 ) Japanese Resturants in East Village, Manhattan:3\n",
      "( 120 / 306 ) Japanese Resturants in Lower East Side, Manhattan:1\n",
      "( 121 / 306 ) Japanese Resturants in Tribeca, Manhattan:0\n",
      "( 122 / 306 ) Japanese Resturants in Little Italy, Manhattan:0\n",
      "( 123 / 306 ) Japanese Resturants in Soho, Manhattan:0\n",
      "( 124 / 306 ) Japanese Resturants in West Village, Manhattan:3\n",
      "( 125 / 306 ) Japanese Resturants in Manhattan Valley, Manhattan:1\n",
      "( 126 / 306 ) Japanese Resturants in Morningside Heights, Manhattan:0\n",
      "( 127 / 306 ) Japanese Resturants in Gramercy, Manhattan:2\n",
      "( 128 / 306 ) Japanese Resturants in Battery Park City, Manhattan:0\n",
      "( 129 / 306 ) Japanese Resturants in Financial District, Manhattan:1\n",
      "( 130 / 306 ) Japanese Resturants in Astoria, Queens:0\n",
      "( 131 / 306 ) Japanese Resturants in Woodside, Queens:1\n",
      "( 132 / 306 ) Japanese Resturants in Jackson Heights, Queens:0\n",
      "( 133 / 306 ) Japanese Resturants in Elmhurst, Queens:0\n",
      "( 134 / 306 ) Japanese Resturants in Howard Beach, Queens:1\n",
      "( 135 / 306 ) Japanese Resturants in Corona, Queens:0\n",
      "( 136 / 306 ) Japanese Resturants in Forest Hills, Queens:2\n",
      "( 137 / 306 ) Japanese Resturants in Kew Gardens, Queens:0\n"
     ]
    },
    {
     "name": "stdout",
     "output_type": "stream",
     "text": [
      "( 138 / 306 ) Japanese Resturants in Richmond Hill, Queens:0\n",
      "( 139 / 306 ) Japanese Resturants in Flushing, Queens:1\n",
      "( 140 / 306 ) Japanese Resturants in Long Island City, Queens:1\n",
      "( 141 / 306 ) Japanese Resturants in Sunnyside, Queens:0\n",
      "( 142 / 306 ) Japanese Resturants in East Elmhurst, Queens:0\n",
      "( 143 / 306 ) Japanese Resturants in Maspeth, Queens:1\n",
      "( 144 / 306 ) Japanese Resturants in Ridgewood, Queens:0\n",
      "( 145 / 306 ) Japanese Resturants in Glendale, Queens:1\n",
      "( 146 / 306 ) Japanese Resturants in Rego Park, Queens:1\n",
      "( 147 / 306 ) Japanese Resturants in Woodhaven, Queens:0\n",
      "( 148 / 306 ) Japanese Resturants in Ozone Park, Queens:0\n",
      "( 149 / 306 ) Japanese Resturants in South Ozone Park, Queens:0\n",
      "( 150 / 306 ) Japanese Resturants in College Point, Queens:1\n",
      "( 151 / 306 ) Japanese Resturants in Whitestone, Queens:2\n",
      "( 152 / 306 ) Japanese Resturants in Bayside, Queens:0\n",
      "( 153 / 306 ) Japanese Resturants in Auburndale, Queens:1\n",
      "( 154 / 306 ) Japanese Resturants in Little Neck, Queens:1\n",
      "( 155 / 306 ) Japanese Resturants in Douglaston, Queens:1\n",
      "( 156 / 306 ) Japanese Resturants in Glen Oaks, Queens:0\n",
      "( 157 / 306 ) Japanese Resturants in Bellerose, Queens:0\n",
      "( 158 / 306 ) Japanese Resturants in Kew Gardens Hills, Queens:1\n",
      "( 159 / 306 ) Japanese Resturants in Fresh Meadows, Queens:1\n",
      "( 160 / 306 ) Japanese Resturants in Briarwood, Queens:1\n",
      "( 161 / 306 ) Japanese Resturants in Jamaica Center, Queens:1\n",
      "( 162 / 306 ) Japanese Resturants in Oakland Gardens, Queens:0\n",
      "( 163 / 306 ) Japanese Resturants in Queens Village, Queens:0\n",
      "( 164 / 306 ) Japanese Resturants in Hollis, Queens:0\n",
      "( 165 / 306 ) Japanese Resturants in South Jamaica, Queens:0\n",
      "( 166 / 306 ) Japanese Resturants in St. Albans, Queens:0\n",
      "( 167 / 306 ) Japanese Resturants in Rochdale, Queens:0\n",
      "( 168 / 306 ) Japanese Resturants in Springfield Gardens, Queens:0\n",
      "( 169 / 306 ) Japanese Resturants in Cambria Heights, Queens:0\n",
      "( 170 / 306 ) Japanese Resturants in Rosedale, Queens:0\n",
      "( 171 / 306 ) Japanese Resturants in Far Rockaway, Queens:0\n",
      "( 172 / 306 ) Japanese Resturants in Broad Channel, Queens:0\n",
      "( 173 / 306 ) Japanese Resturants in Breezy Point, Queens:0\n",
      "( 174 / 306 ) Japanese Resturants in Steinway, Queens:0\n",
      "( 175 / 306 ) Japanese Resturants in Beechhurst, Queens:2\n",
      "( 176 / 306 ) Japanese Resturants in Bay Terrace, Queens:0\n",
      "( 177 / 306 ) Japanese Resturants in Edgemere, Queens:0\n",
      "( 178 / 306 ) Japanese Resturants in Arverne, Queens:0\n",
      "( 179 / 306 ) Japanese Resturants in Rockaway Beach, Queens:0\n",
      "( 180 / 306 ) Japanese Resturants in Neponsit, Queens:0\n",
      "( 181 / 306 ) Japanese Resturants in Murray Hill, Queens:3\n",
      "( 182 / 306 ) Japanese Resturants in Floral Park, Queens:0\n",
      "( 183 / 306 ) Japanese Resturants in Holliswood, Queens:0\n",
      "( 184 / 306 ) Japanese Resturants in Jamaica Estates, Queens:0\n",
      "( 185 / 306 ) Japanese Resturants in Queensboro Hill, Queens:0\n",
      "( 186 / 306 ) Japanese Resturants in Hillcrest, Queens:2\n",
      "( 187 / 306 ) Japanese Resturants in Ravenswood, Queens:1\n",
      "( 188 / 306 ) Japanese Resturants in Lindenwood, Queens:1\n",
      "( 189 / 306 ) Japanese Resturants in Laurelton, Queens:0\n",
      "( 190 / 306 ) Japanese Resturants in Lefrak City, Queens:2\n",
      "( 191 / 306 ) Japanese Resturants in Belle Harbor, Queens:0\n",
      "( 192 / 306 ) Japanese Resturants in Rockaway Park, Queens:0\n",
      "( 193 / 306 ) Japanese Resturants in Somerville, Queens:0\n",
      "( 194 / 306 ) Japanese Resturants in Brookville, Queens:0\n",
      "( 195 / 306 ) Japanese Resturants in Bellaire, Queens:0\n",
      "( 196 / 306 ) Japanese Resturants in North Corona, Queens:0\n",
      "( 197 / 306 ) Japanese Resturants in Forest Hills Gardens, Queens:4\n",
      "( 198 / 306 ) Japanese Resturants in St. George, Staten Island:0\n",
      "( 199 / 306 ) Japanese Resturants in New Brighton, Staten Island:0\n",
      "( 200 / 306 ) Japanese Resturants in Stapleton, Staten Island:0\n",
      "( 201 / 306 ) Japanese Resturants in Rosebank, Staten Island:0\n",
      "( 202 / 306 ) Japanese Resturants in West Brighton, Staten Island:1\n",
      "( 203 / 306 ) Japanese Resturants in Grymes Hill, Staten Island:0\n",
      "( 204 / 306 ) Japanese Resturants in Todt Hill, Staten Island:0\n",
      "( 205 / 306 ) Japanese Resturants in South Beach, Staten Island:0\n",
      "( 206 / 306 ) Japanese Resturants in Port Richmond, Staten Island:0\n",
      "( 207 / 306 ) Japanese Resturants in Mariner's Harbor, Staten Island:0\n",
      "( 208 / 306 ) Japanese Resturants in Port Ivory, Staten Island:0\n",
      "( 209 / 306 ) Japanese Resturants in Castleton Corners, Staten Island:1\n",
      "( 210 / 306 ) Japanese Resturants in New Springville, Staten Island:0\n",
      "( 211 / 306 ) Japanese Resturants in Travis, Staten Island:0\n",
      "( 212 / 306 ) Japanese Resturants in New Dorp, Staten Island:0\n",
      "( 213 / 306 ) Japanese Resturants in Oakwood, Staten Island:0\n",
      "( 214 / 306 ) Japanese Resturants in Great Kills, Staten Island:1\n",
      "( 215 / 306 ) Japanese Resturants in Eltingville, Staten Island:1\n",
      "( 216 / 306 ) Japanese Resturants in Annadale, Staten Island:0\n",
      "( 217 / 306 ) Japanese Resturants in Woodrow, Staten Island:0\n",
      "( 218 / 306 ) Japanese Resturants in Tottenville, Staten Island:0\n",
      "( 219 / 306 ) Japanese Resturants in Tompkinsville, Staten Island:0\n",
      "( 220 / 306 ) Japanese Resturants in Silver Lake, Staten Island:0\n",
      "( 221 / 306 ) Japanese Resturants in Sunnyside, Staten Island:0\n",
      "( 222 / 306 ) Japanese Resturants in Ditmas Park, Brooklyn:0\n",
      "( 223 / 306 ) Japanese Resturants in Wingate, Brooklyn:1\n",
      "( 224 / 306 ) Japanese Resturants in Rugby, Brooklyn:0\n",
      "( 225 / 306 ) Japanese Resturants in Park Hill, Staten Island:0\n",
      "( 226 / 306 ) Japanese Resturants in Westerleigh, Staten Island:0\n",
      "( 227 / 306 ) Japanese Resturants in Graniteville, Staten Island:0\n",
      "( 228 / 306 ) Japanese Resturants in Arlington, Staten Island:0\n",
      "( 229 / 306 ) Japanese Resturants in Arrochar, Staten Island:0\n",
      "( 230 / 306 ) Japanese Resturants in Grasmere, Staten Island:1\n",
      "( 231 / 306 ) Japanese Resturants in Old Town, Staten Island:1\n",
      "( 232 / 306 ) Japanese Resturants in Dongan Hills, Staten Island:2\n",
      "( 233 / 306 ) Japanese Resturants in Midland Beach, Staten Island:0\n",
      "( 234 / 306 ) Japanese Resturants in Grant City, Staten Island:1\n",
      "( 235 / 306 ) Japanese Resturants in New Dorp Beach, Staten Island:0\n",
      "( 236 / 306 ) Japanese Resturants in Bay Terrace, Staten Island:1\n",
      "( 237 / 306 ) Japanese Resturants in Huguenot, Staten Island:0\n",
      "( 238 / 306 ) Japanese Resturants in Pleasant Plains, Staten Island:0\n",
      "( 239 / 306 ) Japanese Resturants in Butler Manor, Staten Island:0\n",
      "( 240 / 306 ) Japanese Resturants in Charleston, Staten Island:1\n",
      "( 241 / 306 ) Japanese Resturants in Rossville, Staten Island:0\n",
      "( 242 / 306 ) Japanese Resturants in Arden Heights, Staten Island:0\n",
      "( 243 / 306 ) Japanese Resturants in Greenridge, Staten Island:0\n",
      "( 244 / 306 ) Japanese Resturants in Heartland Village, Staten Island:0\n",
      "( 245 / 306 ) Japanese Resturants in Chelsea, Staten Island:0\n",
      "( 246 / 306 ) Japanese Resturants in Bloomfield, Staten Island:0\n",
      "( 247 / 306 ) Japanese Resturants in Bulls Head, Staten Island:1\n",
      "( 248 / 306 ) Japanese Resturants in Carnegie Hill, Manhattan:1\n",
      "( 249 / 306 ) Japanese Resturants in Noho, Manhattan:4\n",
      "( 250 / 306 ) Japanese Resturants in Civic Center, Manhattan:0\n",
      "( 251 / 306 ) Japanese Resturants in Midtown South, Manhattan:2\n",
      "( 252 / 306 ) Japanese Resturants in Richmond Town, Staten Island:1\n",
      "( 253 / 306 ) Japanese Resturants in Shore Acres, Staten Island:0\n",
      "( 254 / 306 ) Japanese Resturants in Clifton, Staten Island:0\n",
      "( 255 / 306 ) Japanese Resturants in Concord, Staten Island:1\n",
      "( 256 / 306 ) Japanese Resturants in Emerson Hill, Staten Island:0\n",
      "( 257 / 306 ) Japanese Resturants in Randall Manor, Staten Island:1\n",
      "( 258 / 306 ) Japanese Resturants in Howland Hook, Staten Island:0\n",
      "( 259 / 306 ) Japanese Resturants in Elm Park, Staten Island:1\n",
      "( 260 / 306 ) Japanese Resturants in Remsen Village, Brooklyn:0\n",
      "( 261 / 306 ) Japanese Resturants in New Lots, Brooklyn:0\n",
      "( 262 / 306 ) Japanese Resturants in Paerdegat Basin, Brooklyn:0\n",
      "( 263 / 306 ) Japanese Resturants in Mill Basin, Brooklyn:3\n",
      "( 264 / 306 ) Japanese Resturants in Jamaica Hills, Queens:1\n",
      "( 265 / 306 ) Japanese Resturants in Utopia, Queens:4\n",
      "( 266 / 306 ) Japanese Resturants in Pomonok, Queens:1\n",
      "( 267 / 306 ) Japanese Resturants in Astoria Heights, Queens:0\n",
      "( 268 / 306 ) Japanese Resturants in Claremont Village, Bronx:0\n",
      "( 269 / 306 ) Japanese Resturants in Concourse Village, Bronx:0\n",
      "( 270 / 306 ) Japanese Resturants in Mount Eden, Bronx:0\n"
     ]
    },
    {
     "name": "stdout",
     "output_type": "stream",
     "text": [
      "( 271 / 306 ) Japanese Resturants in Mount Hope, Bronx:0\n",
      "( 272 / 306 ) Japanese Resturants in Sutton Place, Manhattan:0\n",
      "( 273 / 306 ) Japanese Resturants in Hunters Point, Queens:3\n",
      "( 274 / 306 ) Japanese Resturants in Turtle Bay, Manhattan:1\n",
      "( 275 / 306 ) Japanese Resturants in Tudor City, Manhattan:2\n",
      "( 276 / 306 ) Japanese Resturants in Stuyvesant Town, Manhattan:1\n",
      "( 277 / 306 ) Japanese Resturants in Flatiron, Manhattan:3\n",
      "( 278 / 306 ) Japanese Resturants in Sunnyside Gardens, Queens:0\n",
      "( 279 / 306 ) Japanese Resturants in Blissville, Queens:0\n",
      "( 280 / 306 ) Japanese Resturants in Fulton Ferry, Brooklyn:1\n",
      "( 281 / 306 ) Japanese Resturants in Vinegar Hill, Brooklyn:0\n",
      "( 282 / 306 ) Japanese Resturants in Weeksville, Brooklyn:0\n",
      "( 283 / 306 ) Japanese Resturants in Broadway Junction, Brooklyn:0\n",
      "( 284 / 306 ) Japanese Resturants in Dumbo, Brooklyn:1\n",
      "( 285 / 306 ) Japanese Resturants in Manor Heights, Staten Island:0\n",
      "( 286 / 306 ) Japanese Resturants in Willowbrook, Staten Island:0\n",
      "( 287 / 306 ) Japanese Resturants in Sandy Ground, Staten Island:0\n",
      "( 288 / 306 ) Japanese Resturants in Egbertville, Staten Island:0\n",
      "( 289 / 306 ) Japanese Resturants in Roxbury, Queens:0\n",
      "( 290 / 306 ) Japanese Resturants in Homecrest, Brooklyn:2\n",
      "( 291 / 306 ) Japanese Resturants in Middle Village, Queens:0\n",
      "( 292 / 306 ) Japanese Resturants in Prince's Bay, Staten Island:0\n",
      "( 293 / 306 ) Japanese Resturants in Lighthouse Hill, Staten Island:0\n",
      "( 294 / 306 ) Japanese Resturants in Richmond Valley, Staten Island:1\n",
      "( 295 / 306 ) Japanese Resturants in Malba, Queens:1\n",
      "( 296 / 306 ) Japanese Resturants in Highland Park, Brooklyn:0\n",
      "( 297 / 306 ) Japanese Resturants in Madison, Brooklyn:0\n",
      "( 298 / 306 ) Japanese Resturants in Bronxdale, Bronx:0\n",
      "( 299 / 306 ) Japanese Resturants in Allerton, Bronx:0\n",
      "( 300 / 306 ) Japanese Resturants in Kingsbridge Heights, Bronx:0\n",
      "( 301 / 306 ) Japanese Resturants in Erasmus, Brooklyn:0\n",
      "( 302 / 306 ) Japanese Resturants in Hudson Yards, Manhattan:0\n",
      "( 303 / 306 ) Japanese Resturants in Hammels, Queens:0\n",
      "( 304 / 306 ) Japanese Resturants in Bayswater, Queens:0\n",
      "( 305 / 306 ) Japanese Resturants in Queensbridge, Queens:1\n",
      "( 306 / 306 ) Japanese Resturants in Fox Hills, Staten Island:0\n"
     ]
    }
   ],
   "source": [
    "# prepare neighborhood list that contains japanese resturants\n",
    "column_names=['Borough', 'Neighborhood', 'ID','Name']\n",
    "japanese_rst_ny=pd.DataFrame(columns=column_names)\n",
    "count=1\n",
    "for row in new_york_data.values.tolist():\n",
    "    Borough, Neighborhood, Latitude, Longitude=row\n",
    "    venues = get_venues(Latitude,Longitude)\n",
    "    japanese_resturants=venues[venues['Category']=='Japanese Restaurant']   \n",
    "    print('(',count,'/',len(new_york_data),')','Japanese Resturants in '+Neighborhood+', '+Borough+':'+str(len(japanese_resturants)))\n",
    "    for resturant_detail in japanese_resturants.values.tolist():\n",
    "        id, name , category=resturant_detail\n",
    "        japanese_rst_ny = japanese_rst_ny.append({'Borough': Borough,\n",
    "                                                'Neighborhood': Neighborhood, \n",
    "                                                'ID': id,\n",
    "                                                'Name' : name\n",
    "                                               }, ignore_index=True)\n",
    "    count+=1"
   ]
  },
  {
   "cell_type": "markdown",
   "metadata": {},
   "source": [
    "Now that we have filtered out all the Japanese restaurants in NYC, lets start our analysis."
   ]
  },
  {
   "cell_type": "code",
   "execution_count": 18,
   "metadata": {},
   "outputs": [
    {
     "data": {
      "text/html": [
       "<div>\n",
       "<style scoped>\n",
       "    .dataframe tbody tr th:only-of-type {\n",
       "        vertical-align: middle;\n",
       "    }\n",
       "\n",
       "    .dataframe tbody tr th {\n",
       "        vertical-align: top;\n",
       "    }\n",
       "\n",
       "    .dataframe thead th {\n",
       "        text-align: right;\n",
       "    }\n",
       "</style>\n",
       "<table border=\"1\" class=\"dataframe\">\n",
       "  <thead>\n",
       "    <tr style=\"text-align: right;\">\n",
       "      <th></th>\n",
       "      <th>Borough</th>\n",
       "      <th>Neighborhood</th>\n",
       "      <th>ID</th>\n",
       "      <th>Name</th>\n",
       "    </tr>\n",
       "  </thead>\n",
       "  <tbody>\n",
       "    <tr>\n",
       "      <th>92</th>\n",
       "      <td>Queens</td>\n",
       "      <td>Long Island City</td>\n",
       "      <td>5a22f5b8d41bb773bfc3f5c3</td>\n",
       "      <td>Suzuki Shokudo</td>\n",
       "    </tr>\n",
       "    <tr>\n",
       "      <th>8</th>\n",
       "      <td>Bronx</td>\n",
       "      <td>Castle Hill</td>\n",
       "      <td>54e0efc3498e7eda5dff1847</td>\n",
       "      <td>Sarku</td>\n",
       "    </tr>\n",
       "    <tr>\n",
       "      <th>151</th>\n",
       "      <td>Queens</td>\n",
       "      <td>Utopia</td>\n",
       "      <td>4d7926de930ef04da310c24f</td>\n",
       "      <td>Tokyo Hibachi Steak House &amp; Sushi</td>\n",
       "    </tr>\n",
       "    <tr>\n",
       "      <th>38</th>\n",
       "      <td>Brooklyn</td>\n",
       "      <td>Bath Beach</td>\n",
       "      <td>513e7ec8e4b07f4fa1b53b3d</td>\n",
       "      <td>Fuki Sushi Japanese Restaurant</td>\n",
       "    </tr>\n",
       "    <tr>\n",
       "      <th>13</th>\n",
       "      <td>Brooklyn</td>\n",
       "      <td>Bensonhurst</td>\n",
       "      <td>4c326b9fa0ced13ac126156e</td>\n",
       "      <td>Ichi Sushi</td>\n",
       "    </tr>\n",
       "  </tbody>\n",
       "</table>\n",
       "</div>"
      ],
      "text/plain": [
       "      Borough      Neighborhood                        ID  \\\n",
       "92     Queens  Long Island City  5a22f5b8d41bb773bfc3f5c3   \n",
       "8       Bronx       Castle Hill  54e0efc3498e7eda5dff1847   \n",
       "151    Queens            Utopia  4d7926de930ef04da310c24f   \n",
       "38   Brooklyn        Bath Beach  513e7ec8e4b07f4fa1b53b3d   \n",
       "13   Brooklyn       Bensonhurst  4c326b9fa0ced13ac126156e   \n",
       "\n",
       "                                  Name  \n",
       "92                      Suzuki Shokudo  \n",
       "8                                Sarku  \n",
       "151  Tokyo Hibachi Steak House & Sushi  \n",
       "38      Fuki Sushi Japanese Restaurant  \n",
       "13                          Ichi Sushi  "
      ]
     },
     "execution_count": 18,
     "metadata": {},
     "output_type": "execute_result"
    }
   ],
   "source": [
    "# Getting a taste of the data\n",
    "japanese_rst_ny.sample(5)"
   ]
  },
  {
   "cell_type": "code",
   "execution_count": 20,
   "metadata": {},
   "outputs": [
    {
     "name": "stdout",
     "output_type": "stream",
     "text": [
      "Found 171 Japanese restaurants in NYC.\n"
     ]
    }
   ],
   "source": [
    "print(f\"Found {japanese_rst_ny.shape[0]} Japanese restaurants in NYC.\")"
   ]
  },
  {
   "cell_type": "markdown",
   "metadata": {},
   "source": [
    "Lets count the Japanese restaurants borough-wise."
   ]
  },
  {
   "cell_type": "code",
   "execution_count": 22,
   "metadata": {},
   "outputs": [
    {
     "data": {
      "image/png": "[encoded data removed]",
      "text/plain": [
       "<Figure size 900x500 with 1 Axes>"
      ]
     },
     "metadata": {
      "needs_background": "light"
     },
     "output_type": "display_data"
    }
   ],
   "source": [
    "plt.figure(figsize=(9,5), dpi = 100)\n",
    "# title\n",
    "plt.title('Number of Japanese Resturants for each Borough in New York City')\n",
    "#On x-axis\n",
    "plt.xlabel('Borough', fontsize = 15)\n",
    "#On y-axis\n",
    "plt.ylabel('No.of Japanese Resturants', fontsize=15)\n",
    "#giving a bar plot\n",
    "japanese_rst_ny.groupby('Borough')['ID'].count().plot(kind='bar')\n",
    "#legend\n",
    "plt.legend()\n",
    "#displays the plot\n",
    "plt.show()"
   ]
  },
  {
   "cell_type": "markdown",
   "metadata": {},
   "source": [
    "Looks like Brooklyn has the most Japanese restaurants in NYC, followed by Queens & then the Manhattan Island."
   ]
  },
  {
   "cell_type": "markdown",
   "metadata": {},
   "source": [
    "Lets do the same & list out the top 10 Neighbourhoods."
   ]
  },
  {
   "cell_type": "code",
   "execution_count": 69,
   "metadata": {},
   "outputs": [
    {
     "data": {
      "image/png": "[encoded data removed]",
      "text/plain": [
       "<Figure size 900x500 with 1 Axes>"
      ]
     },
     "metadata": {
      "needs_background": "light"
     },
     "output_type": "display_data"
    }
   ],
   "source": [
    "\n",
    "plt.figure(figsize=(9,5), dpi = 100)\n",
    "# title\n",
    "plt.title('Number of Japanese Resturants for each Neighborhood in New York City')\n",
    "#On x-axis\n",
    "plt.xlabel('Neighborhood', fontsize = 15)\n",
    "#On y-axis\n",
    "plt.ylabel('No.of Japanese Resturants', fontsize=15)\n",
    "#giving a bar plot\n",
    "japanese_rst_ny.groupby('Neighborhood')['ID'].count().nlargest(10).plot(kind='bar')\n",
    "#legend\n",
    "plt.legend()\n",
    "#displays the plot\n",
    "plt.show()"
   ]
  },
  {
   "cell_type": "markdown",
   "metadata": {},
   "source": [
    "Looks like the Bath Beach neighborhood & the Murray Hill neighborhood tie out for the first place at 5 Japanese restaurants each."
   ]
  },
  {
   "cell_type": "markdown",
   "metadata": {},
   "source": [
    "Now that we have the number of Japanese restaurants in each Borough, lets visualize the same using a choropleth map."
   ]
  },
  {
   "cell_type": "code",
   "execution_count": 59,
   "metadata": {},
   "outputs": [
    {
     "data": {
      "text/html": [
       "<div>\n",
       "<style scoped>\n",
       "    .dataframe tbody tr th:only-of-type {\n",
       "        vertical-align: middle;\n",
       "    }\n",
       "\n",
       "    .dataframe tbody tr th {\n",
       "        vertical-align: top;\n",
       "    }\n",
       "\n",
       "    .dataframe thead th {\n",
       "        text-align: right;\n",
       "    }\n",
       "</style>\n",
       "<table border=\"1\" class=\"dataframe\">\n",
       "  <thead>\n",
       "    <tr style=\"text-align: right;\">\n",
       "      <th></th>\n",
       "      <th>Borough</th>\n",
       "      <th>ID</th>\n",
       "    </tr>\n",
       "  </thead>\n",
       "  <tbody>\n",
       "    <tr>\n",
       "      <th>0</th>\n",
       "      <td>Bronx</td>\n",
       "      <td>9</td>\n",
       "    </tr>\n",
       "    <tr>\n",
       "      <th>1</th>\n",
       "      <td>Brooklyn</td>\n",
       "      <td>64</td>\n",
       "    </tr>\n",
       "    <tr>\n",
       "      <th>2</th>\n",
       "      <td>Manhattan</td>\n",
       "      <td>36</td>\n",
       "    </tr>\n",
       "    <tr>\n",
       "      <th>3</th>\n",
       "      <td>Queens</td>\n",
       "      <td>45</td>\n",
       "    </tr>\n",
       "    <tr>\n",
       "      <th>4</th>\n",
       "      <td>Staten Island</td>\n",
       "      <td>17</td>\n",
       "    </tr>\n",
       "  </tbody>\n",
       "</table>\n",
       "</div>"
      ],
      "text/plain": [
       "         Borough  ID\n",
       "0          Bronx   9\n",
       "1       Brooklyn  64\n",
       "2      Manhattan  36\n",
       "3         Queens  45\n",
       "4  Staten Island  17"
      ]
     },
     "execution_count": 59,
     "metadata": {},
     "output_type": "execute_result"
    }
   ],
   "source": [
    "japanese_boro_data = pd.DataFrame(japanese_rst_ny.groupby('Borough')['ID'].count())\n",
    "japanese_boro_data.reset_index(level = 0, inplace = True)\n",
    "japanese_boro_data.head()"
   ]
  },
  {
   "cell_type": "code",
   "execution_count": 64,
   "metadata": {},
   "outputs": [],
   "source": [
    "ny_map = folium.Map(location=geo_location('New York'), zoom_start=12)\n",
    "ny_geo = r'Borough Boundaries.geojson'\n",
    "\n",
    "map = ny_map.choropleth(\n",
    "    geo_data=ny_geo,\n",
    "    data=japanese_boro_data,\n",
    "    columns=['Borough', 'ID'],\n",
    "    key_on='feature.properties.boro_name',\n",
    "    fill_color='YlOrRd', \n",
    "    fill_opacity=0.7, \n",
    "    line_opacity=0.2,\n",
    "    legend_name='Number of Japanese Restaurants'\n",
    ")\n",
    "\n",
    "# as this is huge map data , we will save it to a file\n",
    "ny_map.save('borough_count.html')"
   ]
  }
 ],
 "metadata": {
  "kernelspec": {
   "display_name": "Python 3",
   "language": "python",
   "name": "python3"
  },
  "language_info": {
   "codemirror_mode": {
    "name": "ipython",
    "version": 3
   },
   "file_extension": ".py",
   "mimetype": "text/x-python",
   "name": "python",
   "nbconvert_exporter": "python",
   "pygments_lexer": "ipython3",
   "version": "3.7.6"
  }
 },
 "nbformat": 4,
 "nbformat_minor": 4
}
